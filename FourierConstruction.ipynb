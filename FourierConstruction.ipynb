{
 "cells": [
  {
   "cell_type": "markdown",
   "id": "f6e0c1ef",
   "metadata": {},
   "source": [
    "## Fourier Construction interactive demonstration\n",
    "\n",
    "This is a prototype of an interactive app to demonstrate the construction of square, sawtooth, and other periodic signals using N components of the fourier series. Adapted by Jamie Bayer, based on [code described by Dr. Shyamal Bhar](https://vcfw.org/pdf/Department/Physics/Fourier_series_python_code.pdf), Department of Physics, Vidyasagar College for Women, Kolkata.\n",
    "\n",
    "Please send any ideas for improvement to F. Jones."
   ]
  },
  {
   "cell_type": "code",
   "execution_count": 2,
   "id": "472a25de",
   "metadata": {},
   "outputs": [
    {
     "data": {
      "application/vnd.jupyter.widget-view+json": {
       "model_id": "aacc2c39043b46e493f88092c141aa79",
       "version_major": 2,
       "version_minor": 0
      },
      "text/plain": [
       "interactive(children=(Dropdown(description='Function', options=('Square', 'Sawtooth', 'Triangular'), value='Sq…"
      ]
     },
     "metadata": {},
     "output_type": "display_data"
    }
   ],
   "source": [
    "from ipywidgets import interact\n",
    "import numpy as np\n",
    "import matplotlib.pyplot as plt\n",
    "from scipy.signal import square, sawtooth, triang\n",
    "from scipy.integrate import simps\n",
    "\n",
    "\n",
    "def fourier_series(x, y, L, n):\n",
    "    # Calculation of Co-efficients\n",
    "    a0 = 2.0/L*simps(y, x)\n",
    "    an = lambda n:2.0/L*simps(y*np.cos(2.0*np.pi*n*x/L), x)\n",
    "    bn = lambda n:2.0/L*simps(y*np.sin(2.0*np.pi*n*x/L), x)\n",
    "    \n",
    "    # Sum of the series\n",
    "    s = a0/2.0 + sum([an(k)*np.cos(2.*np.pi*k*x/L)+bn(k)*np.sin(2.*np.pi*k*x/L) for k in range(1,n+1)])\n",
    "    return s\n",
    "\n",
    "    \n",
    "    \n",
    "def plot_periodic_function(Function):\n",
    "    if Function == 'Square':\n",
    "        L = 1 # Periodicity of the periodic function f(x)\n",
    "        freq = 1 # No of waves in time period L\n",
    "        dutycycle = 0.5\n",
    "        samples = 1000\n",
    "        \n",
    "        # Generation of square wave\n",
    "        x = np.linspace(0, L, samples, endpoint=False)\n",
    "        y = square(2.0*np.pi*x*freq/L, duty=dutycycle)\n",
    "        \n",
    "    elif Function == 'Sawtooth':\n",
    "        L = 1 # Periodicity of the periodic function f(x)\n",
    "        freq = 2 # No of waves in time period L\n",
    "        width_range = 1\n",
    "        samples = 1000\n",
    "\n",
    "        # Generation of Sawtooth function \n",
    "        x = np.linspace(0, L, samples,endpoint=False)\n",
    "        y = sawtooth(2.0*np.pi*x*freq/L, width=width_range)\n",
    "        \n",
    "    elif Function == 'Triangular':\n",
    "        L = 1 #Periodicity of the periodic function f(x)\n",
    "        samples = 501\n",
    "        \n",
    "        # Generation of Triangular wave\n",
    "        x = np.linspace(0,L,samples,endpoint=False)\n",
    "        y = triang(samples)\n",
    "    \n",
    "    @interact(n=(1, 50))\n",
    "    def plot_functions(n):\n",
    "        # Plotting\n",
    "        plt.plot(x, fourier_series(x, y, L, n))\n",
    "        plt.plot(x, y)\n",
    "        #plt.xlabel(\"$x$\")\n",
    "        #plt.ylabel(\"$y=f(x)$\")\n",
    "        plt.title(Function + \" signal reconstruction by Fourier series\")\n",
    "\n",
    "\n",
    "interact(plot_periodic_function, Function=['Square','Sawtooth','Triangular']);"
   ]
  },
  {
   "cell_type": "code",
   "execution_count": null,
   "id": "6261bdb9",
   "metadata": {},
   "outputs": [],
   "source": []
  }
 ],
 "metadata": {
  "jupytext": {
   "formats": "ipynb,md:myst"
  },
  "kernelspec": {
   "display_name": "Python 3",
   "language": "python",
   "name": "python3"
  },
  "language_info": {
   "codemirror_mode": {
    "name": "ipython",
    "version": 3
   },
   "file_extension": ".py",
   "mimetype": "text/x-python",
   "name": "python",
   "nbconvert_exporter": "python",
   "pygments_lexer": "ipython3",
   "version": "3.8.3"
  }
 },
 "nbformat": 4,
 "nbformat_minor": 5
}
